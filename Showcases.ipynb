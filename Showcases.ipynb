{
 "cells": [
  {
   "cell_type": "markdown",
   "metadata": {},
   "source": [
    "## 1. RandomForestClassificationCustom"
   ]
  },
  {
   "cell_type": "code",
   "execution_count": 1,
   "metadata": {},
   "outputs": [],
   "source": [
    "from sklearn.datasets import make_classification\n",
    "from custom_random_forest import RandomForestClassifierCustom\n",
    "import time\n",
    "import numpy as np\n",
    "\n",
    "X, y = make_classification(n_samples=100000)\n",
    "random_forest_single = RandomForestClassifierCustom(max_depth=30, n_estimators=10, max_features=2, random_state=42)\n",
    "random_forest_multi = RandomForestClassifierCustom(max_depth=30, n_estimators=10, max_features=2, random_state=42)\n"
   ]
  },
  {
   "cell_type": "markdown",
   "metadata": {},
   "source": [
    "#### Measure fit time"
   ]
  },
  {
   "cell_type": "code",
   "execution_count": 2,
   "metadata": {},
   "outputs": [],
   "source": [
    "# Time the training process for single-threaded execution\n",
    "start_time = time.time()\n",
    "random_forest_single.fit(X, y, n_jobs=1)\n",
    "single_thread_fit_time = time.time() - start_time"
   ]
  },
  {
   "cell_type": "code",
   "execution_count": 3,
   "metadata": {},
   "outputs": [],
   "source": [
    "# Time the training process for multi-threaded execution\n",
    "start_time = time.time()\n",
    "random_forest_multi.fit(X, y, n_jobs=2)\n",
    "multi_thread_fit_time = time.time() - start_time"
   ]
  },
  {
   "cell_type": "markdown",
   "metadata": {},
   "source": [
    "#### Measure predict time"
   ]
  },
  {
   "cell_type": "code",
   "execution_count": 4,
   "metadata": {},
   "outputs": [],
   "source": [
    "# Time the prediction process for single-threaded execution\n",
    "start_time = time.time()\n",
    "predictions_single = random_forest_single.predict(X)\n",
    "single_thread_predict_time = time.time() - start_time"
   ]
  },
  {
   "cell_type": "code",
   "execution_count": 5,
   "metadata": {},
   "outputs": [],
   "source": [
    "# Time the prediction process for multi-threaded execution\n",
    "start_time = time.time()\n",
    "predictions_multi = random_forest_multi.predict(X, n_jobs=2)\n",
    "multi_thread_predict_time = time.time() - start_time"
   ]
  },
  {
   "cell_type": "code",
   "execution_count": 6,
   "metadata": {},
   "outputs": [],
   "source": [
    "# Check if the predictions from both models are the same\n",
    "predictions_match = np.array_equal(predictions_single, predictions_multi)"
   ]
  },
  {
   "cell_type": "code",
   "execution_count": 7,
   "metadata": {},
   "outputs": [
    {
     "name": "stdout",
     "output_type": "stream",
     "text": [
      "Fit time with 1 thread: 10.378403425216675\n",
      "Fit time with 2 threads: 6.107331991195679\n",
      "Predict time with 1 thread: 1.3444983959197998\n",
      "Predict time with 2 threads: 1.2403366565704346\n",
      "Predictions match: True\n"
     ]
    }
   ],
   "source": [
    "print(\"Fit time with 1 thread:\", single_thread_fit_time)\n",
    "print(\"Fit time with 2 threads:\", multi_thread_fit_time)\n",
    "print(\"Predict time with 1 thread:\", single_thread_predict_time)\n",
    "print(\"Predict time with 2 threads:\", multi_thread_predict_time)\n",
    "print(\"Predictions match:\", predictions_match)\n"
   ]
  },
  {
   "cell_type": "markdown",
   "metadata": {},
   "source": [
    "## 2. OpenFasta usage example"
   ]
  },
  {
   "cell_type": "code",
   "execution_count": 8,
   "metadata": {},
   "outputs": [],
   "source": [
    "from bio_files_processor import OpenFasta"
   ]
  },
  {
   "cell_type": "code",
   "execution_count": 9,
   "metadata": {},
   "outputs": [
    {
     "name": "stdout",
     "output_type": "stream",
     "text": [
      "id = GTD323452 \n",
      " description = 5S_rRNA NODE_272_length_223_cov_0.720238:18-129(+) \n",
      " sequence = ACGGCCATAGGACTTTGAAAGCACCGCATCCCGTCCGATCTGCGAAGTTAACCAAGATGCCGCCTGGTTAGTACCATGGTGGGGGACCACATGGGAATCCCTGGTGCTGTG\n",
      "id = GTD678345 \n",
      " description = 16S_rRNA NODE_80_length_720_cov_1.094737:313-719(+) \n",
      " sequence = TTGGCTTCTTAGAGGGACTTTTGATGTTTAATCAAAGGAAGTTTGAGGCAATAACAGGTCTGTGATGCCCTTAGATGTTCTGGGCCGCACGCGCGCTACACTGAGCCCTTGGGAGTGGTCCATTTGAGCCGGCAACGGCACGTTTGGACTGCAAACTTGGGCAAACTTGGTCATTTAGAGGAAGTAAAAGTCGTAACAAGGT\n",
      "id = GTD174893 \n",
      " description = 16S_rRNA NODE_1_length_2558431_cov_75.185164:2153860-2155398(+) \n",
      " sequence = TTGAAGAGTTTGATCATGGCTCAGATTGAACGCTGGCGGCAGGCCTAACACATGCAAGTCGAACGGTAACAGGAAACAGCTTGCTGTTTCGCTGACGAGTGGGAAGTAGGTAGCTTAACCTTCGGGAGGGCGCTTACCACTTTGTGATTCATGACTGGGGTGAAGTCGTAACAAGGTAACCGTAGGGGAACCTGCGGTTGGATCACCTCCTT\n",
      "id = GTD906783 \n",
      " description = 16S_rRNA NODE_1_length_2558431_cov_75.185164:793941-795479(-) \n",
      " sequence = TTGAAGAGTTTGATCATGGCTCAGATTGAACGCTGGCGGCAGGCCTAACACATGCAAGTCGAACGGTAACAGGAAACAGCTTGCTGTTTCGCTGACGAGTGGGAAGTAGGTAGCTTAACCTTCGGGAGGGCGCTTACCACTTTGTGATTCATGACTGGGGTGAAGTCGTAACAAGGTAACCGTAGGGGAACCTGCGGTTGGATCACCTCCTT\n",
      "id = GTD129563 \n",
      " description = 16S_rRNA NODE_4_length_428221_cov_75.638017:281055-282593(-) \n",
      " sequence = CGGACGGGTGAGTAATGTCTGGGAAACTGCCTGATGGAGGGGGATAACTACTGGAAACGGTAGCTAATACCGCATAACGTCGCAAGACCAAAGAGGGGGACCGAAGTAGGTAGCTTAACCTTCGGGAGGGCGCTTACCACTTTGTGATTCATGACTGGGGTGAAGTCGTAACAAGGTAACCGTAGGGGAACCTGCGGTTGGATCACCTCCTT\n"
     ]
    }
   ],
   "source": [
    "fasta_file_path = 'data/example_fasta.fasta'\n",
    "with OpenFasta(fasta_file_path) as fasta:\n",
    "    for record in fasta:\n",
    "        print(record)"
   ]
  },
  {
   "cell_type": "markdown",
   "metadata": {},
   "source": [
    "## 3. DNA/RNA/AminoAcidSequence usage examples"
   ]
  },
  {
   "cell_type": "code",
   "execution_count": 11,
   "metadata": {},
   "outputs": [],
   "source": [
    "from biotools import DNASequence, RNASequence, AminoAcidSequence"
   ]
  },
  {
   "cell_type": "code",
   "execution_count": 21,
   "metadata": {},
   "outputs": [
    {
     "name": "stdout",
     "output_type": "stream",
     "text": [
      "1 method that works with DNA: the complementary sequence to ATGCGT is TACGCA\n"
     ]
    }
   ],
   "source": [
    "dna = DNASequence(\"ATGCGT\")\n",
    "print(f\"1 method that works with DNA: the complementary sequence to {dna} is {dna.complement()}\")"
   ]
  },
  {
   "cell_type": "code",
   "execution_count": 22,
   "metadata": {},
   "outputs": [
    {
     "name": "stdout",
     "output_type": "stream",
     "text": [
      "1 method that works with RNA: %GC in AUGCGU is 0.5\n"
     ]
    }
   ],
   "source": [
    "rna = dna.transcribe()\n",
    "print(f\"1 method that works with RNA: %GC in {rna} is {rna.gc_content()}\")"
   ]
  },
  {
   "cell_type": "code",
   "execution_count": 23,
   "metadata": {},
   "outputs": [
    {
     "name": "stdout",
     "output_type": "stream",
     "text": [
      "1 method that works with proteins: KRKRA in three-letter code is Lys-Arg-Lys-Arg-Ala\n"
     ]
    }
   ],
   "source": [
    "peptide = AminoAcidSequence('KRKRA')\n",
    "print(f\"1 method that works with proteins: {peptide} in three-letter code is {peptide.one_to_three_letter_code()}\")"
   ]
  }
 ],
 "metadata": {
  "kernelspec": {
   "display_name": "bioinf",
   "language": "python",
   "name": "python3"
  },
  "language_info": {
   "codemirror_mode": {
    "name": "ipython",
    "version": 3
   },
   "file_extension": ".py",
   "mimetype": "text/x-python",
   "name": "python",
   "nbconvert_exporter": "python",
   "pygments_lexer": "ipython3",
   "version": "3.6.15"
  }
 },
 "nbformat": 4,
 "nbformat_minor": 2
}
